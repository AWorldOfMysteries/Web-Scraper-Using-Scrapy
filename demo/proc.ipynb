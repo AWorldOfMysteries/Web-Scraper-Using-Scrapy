{
 "cells": [
  {
   "cell_type": "code",
   "execution_count": 2,
   "metadata": {},
   "outputs": [
    {
     "name": "stdout",
     "output_type": "stream",
     "text": [
      "                                             Heading  \\\n",
      "0  वीडियो गेम्स क्या महज़ वक़्त की बर्बादी हैं? -...   \n",
      "1  ट्विटर के संस्थापक जैक डोर्सी ने कहा, भारत सरक...   \n",
      "2  सूअर की चर्बी से बने विमान के ईंधन पर क्यों जत...   \n",
      "3  वीडियो गेम्स क्या महज़ वक़्त की बर्बादी हैं? -...   \n",
      "4  दुर्लभ बीमारी 'एटैक्सिया' की शिकार इस महिला की...   \n",
      "\n",
      "                                               URL  \\\n",
      "0         https://www.bbc.com/hindi/media-65802505   \n",
      "1  https://www.bbc.com/hindi/articles/c13vekn58r2o   \n",
      "2  https://www.bbc.com/hindi/articles/c2l4d9z97dko   \n",
      "3      https://www.bbc.com/hindi/magazine-65799352   \n",
      "4         https://www.bbc.com/hindi/media-65802597   \n",
      "\n",
      "                                             Content  \n",
      "0  [कंप्यूटर गेम्स की लोकप्रियता इतनी बढ़ गयी है ...  \n",
      "1  [जैक डोर्सी ने दावा किया कि उनसे भारत के कई ऐस...  \n",
      "2  [पर्यावरण संवाददाता, जानवरों की चर्बी को बेकार...  \n",
      "3  [आपने ऐसी ख़बरें भी सुनी होंगी कि इन खेलों के ...  \n",
      "4  [तल्लुलाह क्लार्क पेशे से पत्रकार हैं. उन्हें ...  \n"
     ]
    }
   ],
   "source": [
    "import numpy as np\n",
    "import pandas as pd\n",
    "\n",
    "df = pd.read_json(\"bbc_final.jsonl\", lines=True)\n",
    "print(df.head())"
   ]
  },
  {
   "cell_type": "code",
   "execution_count": 7,
   "metadata": {},
   "outputs": [
    {
     "data": {
      "text/plain": [
       "0       [कंप्यूटर गेम्स की लोकप्रियता इतनी बढ़ गयी है ...\n",
       "1       [जैक डोर्सी ने दावा किया कि उनसे भारत के कई ऐस...\n",
       "2       [पर्यावरण संवाददाता, जानवरों की चर्बी को बेकार...\n",
       "3       [आपने ऐसी ख़बरें भी सुनी होंगी कि इन खेलों के ...\n",
       "4       [तल्लुलाह क्लार्क पेशे से पत्रकार हैं. उन्हें ...\n",
       "                              ...                        \n",
       "2277    [रूसी अधिकारियों का कहना है कि ये हमले राष्ट्र...\n",
       "2278    [12 साल पहले जब हिना रब्बानी खर अपने भारतीय सम...\n",
       "2279    [क्रेमलिन रूसी राष्ट्रपति के आवासीय परिसर को क...\n",
       "2280                                                   []\n",
       "2281                                                   []\n",
       "Name: Content, Length: 2282, dtype: object"
      ]
     },
     "execution_count": 7,
     "metadata": {},
     "output_type": "execute_result"
    }
   ],
   "source": [
    "df[\"Heading\"][0]\n",
    "df[\"Content\"]"
   ]
  },
  {
   "cell_type": "code",
   "execution_count": 76,
   "metadata": {},
   "outputs": [
    {
     "name": "stdout",
     "output_type": "stream",
     "text": [
      "91731\n"
     ]
    }
   ],
   "source": [
    "char_set = [' ', 'ँ', 'ं', 'ः', 'अ', 'आ', 'इ', 'ई', 'उ', 'ऊ', 'ऋ', 'ए', 'ऐ', 'ऑ', 'ओ', 'औ', 'क', 'ख', 'ग', 'घ','ङ', 'च', 'छ', 'ज', 'झ', 'ञ', 'ट', 'ठ', 'ड', 'ढ', 'ण', 'त', 'थ', 'द', 'ध', 'न', 'प', 'फ', 'ब', 'भ', 'म', 'य', 'र', 'ल', 'व', 'श', 'ष', 'स', 'ह', 'क्ष', 'त्र' ,'ज्ञ', 'श्र' ,'ा', 'ि', 'ी', 'ु', 'ू', 'ृ', 'े', 'ै', 'ॉ', 'ो', 'ौ', '्', 'ज़', 'ड़', 'ढ़', 'फ़',\n",
    "'़', 'ॅ', '1', '2', '3', '4', '5', '6', '7', '8', '9', '0', '%', '(', ')', '/', '!'\n",
    "]\n",
    "cnt = 0\n",
    "for article in df[\"Content\"]:\n",
    "    for para in article:\n",
    "        sentences = para.split(\".\")\n",
    "        for sentence in sentences:\n",
    "            sentence = sentence.strip()\n",
    "            sentence = sentence.replace(\",\", \"\")\n",
    "            sentence = sentence.replace(\"?\", \"\")\n",
    "            sentence = sentence.replace(\"'\", \"\")\n",
    "            sentence = sentence.replace(\":\", \"\")\n",
    "            sentence = sentence.replace(\"-\", \"\")\n",
    "\n",
    "            sentence = sentence.replace('\"', \"\")\n",
    "            sentence = sentence.replace(\"“\", \"\")\n",
    "            sentence = sentence.replace(\"”\", \"\")\n",
    "            sentence = sentence.replace(\"‘\", \"\")\n",
    "            sentence = sentence.replace(\"’\", \"\") \n",
    "            sentence = sentence.replace(\"(\", \"\") \n",
    "            sentence = sentence.replace(\")\", \"\") \n",
    "\n",
    "            sentence = sentence.replace(\"%\", \"\")    \n",
    "            sentence = sentence.replace(\"/\", \"\")    \n",
    "            sentence = sentence.replace(\"!\", \"\")    \n",
    "            sentence = sentence.strip()\n",
    "            if sentence == \"\" or sentence == \"”\" or sentence == '\"' or sentence == '\" \"' or sentence == ')':\n",
    "                None\n",
    "            else:\n",
    "                flag = True\n",
    "                for char in sentence:\n",
    "                    if char not in char_set:\n",
    "                        flag = False\n",
    "                        # if char.isalpha() == False:\n",
    "                        #     print(char)\n",
    "                    else:\n",
    "                        None\n",
    "                if flag == True:    \n",
    "                    # print(sentence)\n",
    "                    cnt += 1\n",
    "                    with open('output_final.txt', 'a', encoding='utf-8') as file:\n",
    "                        file.write(sentence + \"\\n\") \n",
    "\n",
    "print(cnt)        "
   ]
  },
  {
   "cell_type": "code",
   "execution_count": 52,
   "metadata": {},
   "outputs": [
    {
     "name": "stdout",
     "output_type": "stream",
     "text": [
      "28 ,\n",
      "78 .\n",
      "151 ?\n",
      "लगभग दो अरब लोग इसे कंप्यूटर, मोबाइल फ़ोन या प्ले स्टेशन के कंसोल पर खेलते हैं. लेकिन क्या वीडियो गेम्स की वजह से युवा पीढ़ी का भविष्य बर्बाद हो रहा है?\n"
     ]
    }
   ],
   "source": [
    "art = 0\n",
    "par = 1\n",
    "para = df[\"Content\"][art][par]\n",
    "for i in range(len(para)):\n",
    "    if para[i] not in char_set:\n",
    "        print(i, para[i])\n",
    "\n",
    "print(para)"
   ]
  }
 ],
 "metadata": {
  "kernelspec": {
   "display_name": "Python 3",
   "language": "python",
   "name": "python3"
  },
  "language_info": {
   "codemirror_mode": {
    "name": "ipython",
    "version": 3
   },
   "file_extension": ".py",
   "mimetype": "text/x-python",
   "name": "python",
   "nbconvert_exporter": "python",
   "pygments_lexer": "ipython3",
   "version": "3.11.3"
  },
  "orig_nbformat": 4
 },
 "nbformat": 4,
 "nbformat_minor": 2
}
